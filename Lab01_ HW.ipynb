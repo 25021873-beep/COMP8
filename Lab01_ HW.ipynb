{
 "cells": [
  {
   "cell_type": "code",
   "execution_count": null,
   "metadata": {
    "colab": {
     "base_uri": "https://localhost:8080/"
    },
    "executionInfo": {
     "elapsed": 20,
     "status": "ok",
     "timestamp": 1757993769567,
     "user": {
      "displayName": "Đức Minh Ngô",
      "userId": "08637932929897148720"
     },
     "user_tz": -420
    },
    "id": "H0kWH7NXl773",
    "outputId": "a2321936-5ac0-4968-9eae-6d5c974c3e5a"
   },
   "outputs": [
    {
     "name": "stdout",
     "output_type": "stream",
     "text": [
      "Hello World!\n"
     ]
    }
   ],
   "source": [
    "#1\n",
    "print(\"Hello World!\")"
   ]
  },
  {
   "cell_type": "code",
   "execution_count": null,
   "metadata": {
    "colab": {
     "base_uri": "https://localhost:8080/"
    },
    "executionInfo": {
     "elapsed": 3633,
     "status": "ok",
     "timestamp": 1757993843960,
     "user": {
      "displayName": "Đức Minh Ngô",
      "userId": "08637932929897148720"
     },
     "user_tz": -420
    },
    "id": "ZGuds-fXlyMM",
    "outputId": "e4b28d01-4952-4f3a-a3e2-7ea472b09788"
   },
   "outputs": [
    {
     "name": "stdout",
     "output_type": "stream",
     "text": [
      "What is your name?:minh\n",
      "Hello minh!\n"
     ]
    }
   ],
   "source": [
    "#2\n",
    "name = input(\"What is your name?:\")\n",
    "print(f\"Hello {name}!\")"
   ]
  },
  {
   "cell_type": "code",
   "execution_count": null,
   "metadata": {},
   "outputs": [],
   "source": [
    "#3\n",
    "nums = input(\"Give me two numbers: \")\n",
    "a = int(nums.split()[0])\n",
    "b = int(nums.split()[1])\n",
    "print(\"Sum: \", a+b)\n",
    "print(\"Difference: \", a-b)\n",
    "print(\"Product: \", a*b)\n",
    "print(\"Div_res: \", a//b)\n",
    "print(\"Module: \", a%b)\n",
    "print(\"Div_res_rounded: \", round(a/b, 2))"
   ]
  },
  {
   "cell_type": "code",
   "execution_count": null,
   "metadata": {},
   "outputs": [],
   "source": [
    "#4\n",
    "dtb = input(\"Nhập 6 đầu điểm trung bình: \")\n",
    "dtb = dtb.split(\",\")\n",
    "new_dtb = []\n",
    "for x in dtb:\n",
    "    x = float(x)\n",
    "    new_dtb.append(x)\n",
    "weights = [1, 1, 1, 2, 2, 3]\n",
    "weighted_scores = [new_dtb[i] * weights[i] for i in range(6)]\n",
    "weighted_sum = sum(weighted_scores)\n",
    "total_weight = sum(weights)\n",
    "average = weighted_sum / total_weight\n",
    "print(f\"Điểm trung bình có trọng số là: {average}\")"
   ]
  },
  {
   "cell_type": "code",
   "execution_count": null,
   "metadata": {},
   "outputs": [],
   "source": [
    "#5\n",
    "import math\n",
    "num = input(\"Give me two numbers: \")\n",
    "num = num.split()\n",
    "a = int(num[0])\n",
    "b = int(num[1])\n",
    "print(a**b)"
   ]
  },
  {
   "cell_type": "code",
   "execution_count": 7,
   "metadata": {},
   "outputs": [
    {
     "name": "stdout",
     "output_type": "stream",
     "text": [
      "97\n",
      "A\n"
     ]
    }
   ],
   "source": [
    "#6\n",
    "letter = input(\"Nhập một kí tự chữ cái: \")\n",
    "unicode = ord(letter)\n",
    "print(unicode)\n",
    "print(letter.upper())\n"
   ]
  },
  {
   "cell_type": "code",
   "execution_count": 12,
   "metadata": {},
   "outputs": [
    {
     "name": "stdout",
     "output_type": "stream",
     "text": [
      "512\n",
      "512\n"
     ]
    }
   ],
   "source": [
    "#7\n",
    "import math\n",
    "A = ((13 ** 2) * 3) + 5 \n",
    "B = 13**2*3 + 5\n",
    "print(A)\n",
    "print(B)"
   ]
  },
  {
   "cell_type": "code",
   "execution_count": 14,
   "metadata": {},
   "outputs": [
    {
     "name": "stdout",
     "output_type": "stream",
     "text": [
      "41.0\n"
     ]
    }
   ],
   "source": [
    "#8\n",
    "celsius = float(input(\"Enter temperature in Celsius: \"))\n",
    "fahrenheit = (celsius * 9/5) + 32\n",
    "print(fahrenheit)"
   ]
  },
  {
   "cell_type": "code",
   "execution_count": 16,
   "metadata": {},
   "outputs": [
    {
     "name": "stdout",
     "output_type": "stream",
     "text": [
      "36.4\n"
     ]
    }
   ],
   "source": [
    "#9\n",
    "import math\n",
    "clock = float(input(\"Nhập giá tiền gốc của chiếc đồng hồ: \"))\n",
    "print((clock + 5) * 1.4)"
   ]
  },
  {
   "cell_type": "code",
   "execution_count": null,
   "metadata": {
    "colab": {
     "base_uri": "https://localhost:8080/"
    },
    "executionInfo": {
     "elapsed": 1430,
     "status": "ok",
     "timestamp": 1757995293889,
     "user": {
      "displayName": "Đức Minh Ngô",
      "userId": "08637932929897148720"
     },
     "user_tz": -420
    },
    "id": "wW9tCTHxmfsG",
    "outputId": "c57a187a-ec08-42b2-fcc6-8715c471d041"
   },
   "outputs": [
    {
     "name": "stdout",
     "output_type": "stream",
     "text": [
      "Give me three names: a b c\n",
      "Hello c, b, a\n"
     ]
    }
   ],
   "source": [
    "#10\n",
    "name = input(\"Give me three names: \").split()\n",
    "print(f\"Hello {name_list[2]}, {name_list[1]}, {name_list[0]}\")\n"
   ]
  },
  {
   "cell_type": "code",
   "execution_count": 23,
   "metadata": {},
   "outputs": [
    {
     "name": "stdout",
     "output_type": "stream",
     "text": [
      "Thời gian quy đổi ra giây là: 35580 giây\n"
     ]
    }
   ],
   "source": [
    "#11\n",
    "import math\n",
    "time = input(\"Nhập thời gian: \")\n",
    "hour = int(time.split(\" \")[0])\n",
    "minute = int(time.split(\" \")[1])\n",
    "second = hour * 3600 + minute * 60\n",
    "round(second, 0)\n",
    "print(f\"Thời gian quy đổi ra giây là: {second} giây\") "
   ]
  },
  {
   "cell_type": "code",
   "execution_count": 26,
   "metadata": {},
   "outputs": [
    {
     "name": "stdout",
     "output_type": "stream",
     "text": [
      "Số miếng dán cần dán để bao phủ toàn bộ khối rubik là: 2646 miếng\n"
     ]
    }
   ],
   "source": [
    "#12\n",
    "import math\n",
    "side = int(input(\"Nhập độ dài cạnh của khối rubik: \"))\n",
    "sticker = (side ** 2) * 6\n",
    "print(f\"Số miếng dán cần dán để bao phủ toàn bộ khối rubik là: {sticker} miếng\")"
   ]
  },
  {
   "cell_type": "code",
   "execution_count": 28,
   "metadata": {},
   "outputs": [
    {
     "name": "stdout",
     "output_type": "stream",
     "text": [
      "3\n"
     ]
    }
   ],
   "source": [
    "#13\n",
    "import math\n",
    "num = (input(\"Nhập hai số nguyên dương: \"))\n",
    "num = num.split()\n",
    "a = int(num[0])\n",
    "b = int(num[1])\n",
    "c = a * b\n",
    "print (str(c)[-1])"
   ]
  },
  {
   "cell_type": "code",
   "execution_count": null,
   "metadata": {},
   "outputs": [
    {
     "name": "stdout",
     "output_type": "stream",
     "text": [
      "a = 3, b = 2\n"
     ]
    }
   ],
   "source": [
    "#14\n",
    "a = int(input(\"Nhập số a: \"))\n",
    "b = int(input(\"Nhập số b: \"))\n",
    "print(f\"a = {b}, b = {a}\")"
   ]
  },
  {
   "cell_type": "code",
   "execution_count": null,
   "metadata": {},
   "outputs": [
    {
     "name": "stdout",
     "output_type": "stream",
     "text": [
      "Số sao có 5 lớp là: 61\n"
     ]
    }
   ],
   "source": [
    "#15\n",
    "def so_sao(n):\n",
    "    return n * 3 * (n-1) + 1\n",
    "\n",
    "n = int(input(\"Nhập số n nguyên dương: \"))\n",
    "result = so_sao(int(n))\n",
    "if n <= 0:\n",
    "    print(\"Hãy nhập số nguyên dương\")\n",
    "else:\n",
    "    print(f\"Số sao có {n} lớp là: {result}\")"
   ]
  },
  {
   "cell_type": "code",
   "execution_count": null,
   "metadata": {
    "colab": {
     "base_uri": "https://localhost:8080/"
    },
    "executionInfo": {
     "elapsed": 18,
     "status": "ok",
     "timestamp": 1757995068600,
     "user": {
      "displayName": "Đức Minh Ngô",
      "userId": "08637932929897148720"
     },
     "user_tz": -420
    },
    "id": "Imt8DQgPqpRg",
    "outputId": "1ed0e1cd-7d22-4594-ba30-91ef6a24e28c"
   },
   "outputs": [
    {
     "name": "stdout",
     "output_type": "stream",
     "text": [
      "Spring\n",
      "Summer\n",
      "Autumn\n",
      "Winter\n"
     ]
    }
   ],
   "source": [
    "#16\n",
    "print(\"Spring\\nSummer\\nAutumn\\nWinter\")"
   ]
  },
  {
   "cell_type": "code",
   "execution_count": null,
   "metadata": {
    "colab": {
     "base_uri": "https://localhost:8080/"
    },
    "executionInfo": {
     "elapsed": 22,
     "status": "ok",
     "timestamp": 1758597367516,
     "user": {
      "displayName": "Đức Minh Ngô",
      "userId": "08637932929897148720"
     },
     "user_tz": -420
    },
    "id": "W7EB4OVNrDCA",
    "outputId": "a6a37797-186f-417b-e680-b947234890c3"
   },
   "outputs": [
    {
     "name": "stdout",
     "output_type": "stream",
     "text": [
      "*\n",
      "***\n",
      "*****\n"
     ]
    }
   ],
   "source": [
    "#17\n",
    "for i in range(1,6,2):\n",
    "   print(\"*\"*((i)))"
   ]
  },
  {
   "cell_type": "code",
   "execution_count": null,
   "metadata": {
    "colab": {
     "base_uri": "https://localhost:8080/"
    },
    "executionInfo": {
     "elapsed": 8,
     "status": "ok",
     "timestamp": 1758597578303,
     "user": {
      "displayName": "Đức Minh Ngô",
      "userId": "08637932929897148720"
     },
     "user_tz": -420
    },
    "id": "qc-_kfi7kp6X",
    "outputId": "29ca7c68-00ed-4f14-86a3-4e552a510a6a"
   },
   "outputs": [
    {
     "name": "stdout",
     "output_type": "stream",
     "text": [
      "### # #  ### ###\n",
      " #  #  #  #   #\n",
      " #  #   # #   #\n",
      " #  #  #  #   #\n",
      " #  ##    #   #\n"
     ]
    }
   ],
   "source": [
    "#18\n",
    "print(\"### # #  ### ###\")\n",
    "print(\" #  #  #  #   #\")\n",
    "print(\" #  #   # #   #\")\n",
    "print(\" #  #  #  #   #\")\n",
    "print(\" #  ##    #   #\")"
   ]
  },
  {
   "cell_type": "code",
   "execution_count": null,
   "metadata": {
    "colab": {
     "base_uri": "https://localhost:8080/"
    },
    "executionInfo": {
     "elapsed": 12,
     "status": "ok",
     "timestamp": 1758597636017,
     "user": {
      "displayName": "Đức Minh Ngô",
      "userId": "08637932929897148720"
     },
     "user_tz": -420
    },
    "id": "dWCRnY_SlbcH",
    "outputId": "51f152d9-fcbe-4f1c-a33b-ed58fae789d9"
   },
   "outputs": [
    {
     "name": "stdout",
     "output_type": "stream",
     "text": [
      "Monday\n",
      "Tuesday\n",
      "Wednesday\n",
      "Thursday\n",
      "Friday\n",
      "Saturday\n",
      "Sunday\n"
     ]
    }
   ],
   "source": [
    "#19\n",
    "print(\"Monday\\nTuesday\\nWednesday\\nThursday\\nFriday\\nSaturday\\nSunday\")"
   ]
  },
  {
   "cell_type": "code",
   "execution_count": null,
   "metadata": {
    "colab": {
     "base_uri": "https://localhost:8080/"
    },
    "executionInfo": {
     "elapsed": 12,
     "status": "ok",
     "timestamp": 1758597716608,
     "user": {
      "displayName": "Đức Minh Ngô",
      "userId": "08637932929897148720"
     },
     "user_tz": -420
    },
    "id": "AuFzn3zPlo1_",
    "outputId": "0f91d621-f105-48c6-b184-6bd56431a787"
   },
   "outputs": [
    {
     "name": "stdout",
     "output_type": "stream",
     "text": [
      "January\n",
      "February\n",
      "March\n",
      "April\n",
      "May\n",
      "June\n",
      "July\n",
      "August\n",
      "September\n",
      "October\n",
      "November\n",
      "December\n"
     ]
    }
   ],
   "source": [
    "#20\n",
    "print(\"January\\nFebruary\\nMarch\\nApril\\nMay\\nJune\\nJuly\\nAugust\\nSeptember\\nOctober\\nNovember\\nDecember\")"
   ]
  },
  {
   "cell_type": "code",
   "execution_count": null,
   "metadata": {
    "colab": {
     "base_uri": "https://localhost:8080/"
    },
    "executionInfo": {
     "elapsed": 11,
     "status": "ok",
     "timestamp": 1757995829243,
     "user": {
      "displayName": "Đức Minh Ngô",
      "userId": "08637932929897148720"
     },
     "user_tz": -420
    },
    "id": "3ZFnuQ_ttysI",
    "outputId": "4c4fe35f-e0a8-4c9d-ca8f-c1773480836e"
   },
   "outputs": [
    {
     "name": "stdout",
     "output_type": "stream",
     "text": [
      "Hello, world\n",
      "Hello, world\n",
      "Hello, world\n",
      "Hello, world\n",
      "Hello, world\n",
      "Hello, world\n",
      "Hello, world\n",
      "Hello, world\n",
      "Hello, world\n",
      "Hello, world\n"
     ]
    }
   ],
   "source": [
    "#21\n",
    "for i in range(10):\n",
    "  print(\"Hello, world\")\n"
   ]
  },
  {
   "cell_type": "code",
   "execution_count": null,
   "metadata": {},
   "outputs": [],
   "source": []
  }
 ],
 "metadata": {
  "colab": {
   "authorship_tag": "ABX9TyMdMOxR8TibH/NzkMQNlKso",
   "provenance": []
  },
  "kernelspec": {
   "display_name": "Python 3",
   "name": "python3"
  },
  "language_info": {
   "codemirror_mode": {
    "name": "ipython",
    "version": 3
   },
   "file_extension": ".py",
   "mimetype": "text/x-python",
   "name": "python",
   "nbconvert_exporter": "python",
   "pygments_lexer": "ipython3",
   "version": "3.11.9"
  }
 },
 "nbformat": 4,
 "nbformat_minor": 0
}
