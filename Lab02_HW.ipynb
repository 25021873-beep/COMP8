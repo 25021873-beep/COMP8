{
  "nbformat": 4,
  "nbformat_minor": 0,
  "metadata": {
    "colab": {
      "provenance": []
    },
    "kernelspec": {
      "name": "python3",
      "display_name": "Python 3"
    },
    "language_info": {
      "name": "python"
    }
  },
  "cells": [
    {
      "cell_type": "code",
      "execution_count": null,
      "metadata": {
        "id": "j8WpJL4Ensn-"
      },
      "outputs": [],
      "source": [
        "#1\n",
        "a = 7\n",
        "b = 5\n",
        "c = a - b\n",
        "print (c)"
      ]
    },
    {
      "cell_type": "code",
      "source": [
        "#2\n",
        "city = \"Hà Nội\"\n",
        "year = 2025\n",
        "print(\"Thành phố:\", city, \"- Năm:\",year)"
      ],
      "metadata": {
        "colab": {
          "base_uri": "https://localhost:8080/"
        },
        "id": "1dfmHN1wn2fh",
        "outputId": "eac1b26c-856c-43d2-bfaf-cf3828b875bc"
      },
      "execution_count": 1,
      "outputs": [
        {
          "output_type": "stream",
          "name": "stdout",
          "text": [
            "Thành phố: Hà Nội - Năm: 2025\n"
          ]
        }
      ]
    },
    {
      "cell_type": "code",
      "source": [
        "#3\n",
        "n = 4\n",
        "t = 0\n",
        "for i in range(1,n+1):\n",
        "    t += i\n",
        "print(t)\n",
        "#Sau mỗi lần lặp for với i=1,2,3,4, t từ 0 sẽ được cộng với các giá trị i sau mỗi lần lặp\n",
        "#Sau khi lặp lần cuối (t += 4), in kết quả cuối cùng của t = 10 = 0+1+2+3+4"
      ],
      "metadata": {
        "id": "lIXOj-o8n2ap"
      },
      "execution_count": null,
      "outputs": []
    },
    {
      "cell_type": "code",
      "source": [
        "#4\n",
        "numbers = [1,2,3,4]\n",
        "for x in numbers:\n",
        "    if x % 2 == 0:\n",
        "        print(\"X là số chẵn\")\n",
        "    else:\n",
        "        print(\"X là số lẻ\")\n",
        "#Lệnh lặp for sẽ xét duyệt if-else cho từng giá trị trong list để xem đó là số lẻ hay chẵn"
      ],
      "metadata": {
        "id": "hiQ6HR5-n2YP"
      },
      "execution_count": null,
      "outputs": []
    },
    {
      "cell_type": "code",
      "source": [
        "#5\n",
        "animals = [\"cat\", \"dog\", \"elephant\"]\n",
        "count = 0\n",
        "for x in animals:\n",
        "    count += 1\n",
        "print(\"Số lượng phần tử trong danh sách là:\", count)\n",
        "#Với mỗi lần lặp for, số count sẽ được cộng thêm 1, và số lần lặp = số phần tử trong list\n",
        "#Khi print số count cũng sẽ in ra số phần tử trong list"
      ],
      "metadata": {
        "id": "YL1jSYESn2U3"
      },
      "execution_count": null,
      "outputs": []
    },
    {
      "cell_type": "code",
      "source": [
        "#6\n",
        "#Chương trình này đang hiển thị một menu cho người dùng với tiêu đề \"AI Prediction System\" và ba lựa chọn:\n",
        "#Phân tích cảm xúc (Sentiment analysis)\n",
        "#Dự báo thời tiết (Weather forecast)\n",
        "#Thoát (Exit)\n",
        "#Sau đó, chương trình yêu cầu người dùng chọn một tùy chọn bằng cách nhập vào số tương ứng.\n",
        "#Đây là phần giao diện nhập liệu cho một chương trình dự đoán sử dụng AI."
      ],
      "metadata": {
        "id": "EqVo6QEKn2NI"
      },
      "execution_count": null,
      "outputs": []
    },
    {
      "cell_type": "code",
      "source": [
        "#7\n",
        "num = input(\"Nhập số: \")\n",
        "if int(num) % 2 == 0:\n",
        "    print(\"Số chẵn\")\n",
        "else:\n",
        "    print(\"Số lẻ\")\n",
        "#Ở dòng 2 của đoạn mã do AI tạo, dấu \"=\" cần phải được thay bằng dấu \"==\""
      ],
      "metadata": {
        "id": "LPxpUmaQn2CF"
      },
      "execution_count": null,
      "outputs": []
    },
    {
      "cell_type": "code",
      "source": [
        "#8\n",
        "for i in range(3):\n",
        "    print(\"AI đang học lần\",i + 1)\n",
        "print(\"Huấn luyện xong!\")\n",
        "#Lệnh for sẽ lặp lại lệnh print 3 lần với mỗi giá trị i = 0,1,2; mỗi lần print sẽ có số lần AI học tương ứng với i + 1, do i bắt đầu từ 0.\n",
        "#Sau khi vòng lặp kết thúc => AI đã học xong => In \"Huấn luyện xong!\""
      ],
      "metadata": {
        "id": "8T5gvk6jn1w4"
      },
      "execution_count": null,
      "outputs": []
    },
    {
      "cell_type": "code",
      "source": [
        "#9\n",
        "for x in [\"cat\", \"dog\", \"fish\"]:\n",
        "    print(\"Dự đoán con vật:\",x)\n",
        "#Lệnh for sẽ lặp lại từng giá trị xong list để nhét vào chuỗi string trong print"
      ],
      "metadata": {
        "id": "l47jwvhjoHgy"
      },
      "execution_count": null,
      "outputs": []
    },
    {
      "cell_type": "code",
      "source": [
        "#10\n",
        "#Ở dòng 1, đoạn code thiếu hai dấu \"(\" ở đầu và dấu \")\" ở cuối\n",
        "#Ở dòng 4, đoạn code bị thừa một dấu \")\" ở cuối\n",
        "#Ở dòng 3,5, đoạn code bị thiếu một dấu \")\" ở cuối\n",
        "#Bonus: Ở dòng 5, nên sử dụng dấu \" \" thay vì ' ' để giữ tính đồng bộ"
      ],
      "metadata": {
        "id": "ewdVoip_oH9p"
      },
      "execution_count": null,
      "outputs": []
    }
  ]
}