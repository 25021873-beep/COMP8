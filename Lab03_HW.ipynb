{
  "nbformat": 4,
  "nbformat_minor": 0,
  "metadata": {
    "colab": {
      "provenance": []
    },
    "kernelspec": {
      "name": "python3",
      "display_name": "Python 3"
    },
    "language_info": {
      "name": "python"
    }
  },
  "cells": [
    {
      "cell_type": "code",
      "execution_count": 1,
      "metadata": {
        "colab": {
          "base_uri": "https://localhost:8080/"
        },
        "id": "wuKIkumeo2vS",
        "outputId": "2597bf39-36a8-44ef-c22b-8024e631a3f2"
      },
      "outputs": [
        {
          "output_type": "stream",
          "name": "stdout",
          "text": [
            "Enter a number: 223\n",
            "Reversed number: 322\n"
          ]
        }
      ],
      "source": [
        "#1\n",
        "import math\n",
        "n = input(\"Enter a number: \")\n",
        "reversed = \"\".join(reversed(n))\n",
        "print(\"Reversed number:\", reversed)"
      ]
    },
    {
      "cell_type": "code",
      "source": [
        "#2\n",
        "import math\n",
        "n = input(\"Enter two numbers: \")\n",
        "n = n.split()\n",
        "print(f\"Reversed: {n[1]} {n[0]}\")"
      ],
      "metadata": {
        "id": "GCdCueTYpNtY"
      },
      "execution_count": null,
      "outputs": []
    },
    {
      "cell_type": "code",
      "source": [
        "#3\n",
        "import math\n",
        "n = int(input(\"Enter a number: \"))\n",
        "if n & (n-1) == 0:\n",
        "    print(\"True\")\n",
        "else:\n",
        "    print(\"False\")"
      ],
      "metadata": {
        "id": "ZCtFcwHlpNq3"
      },
      "execution_count": null,
      "outputs": []
    },
    {
      "cell_type": "code",
      "source": [
        "#4\n",
        "import math\n",
        "a, b = input(\"Enter two numbers: \").split()\n",
        "ans = int(a) // int(b)\n",
        "print(\"The quotient is:\", ans)"
      ],
      "metadata": {
        "id": "GDEyBz89pNoj"
      },
      "execution_count": null,
      "outputs": []
    },
    {
      "cell_type": "code",
      "source": [
        "#5\n",
        "import math\n",
        "a, b = input(\"Enter two numbers: \").split()\n",
        "ans = int(a) / int(b)\n",
        "print(f\"The quotient is: {math.ceil(ans)}\")"
      ],
      "metadata": {
        "id": "DKFATERXpNmE"
      },
      "execution_count": null,
      "outputs": []
    },
    {
      "cell_type": "code",
      "source": [
        "#6\n",
        "import math\n",
        "x = int(input(\"Enter a number: \"))\n",
        "if x % 2 == 0:\n",
        "    print(\"Even\")\n",
        "else:\n",
        "    print(\"Odd\")"
      ],
      "metadata": {
        "colab": {
          "base_uri": "https://localhost:8080/"
        },
        "id": "c9SpPrdYpNju",
        "outputId": "6e41ca1d-baac-454b-ef54-0573540851b3"
      },
      "execution_count": 2,
      "outputs": [
        {
          "output_type": "stream",
          "name": "stdout",
          "text": [
            "Enter a number: 234\n",
            "Even\n"
          ]
        }
      ]
    },
    {
      "cell_type": "code",
      "source": [
        "#7:\n",
        "import math\n",
        "a, b = input(\"Enter two numbers: \").split()\n",
        "if int(a) and int(b) < 0:\n",
        "    print(\"Yes\")\n",
        "else:\n",
        "    print(\"No\")"
      ],
      "metadata": {
        "id": "HW_5z8C3pNiO"
      },
      "execution_count": null,
      "outputs": []
    },
    {
      "cell_type": "code",
      "source": [
        "#8\n",
        "import math\n",
        "a, b = input(\"Enter two strings: \").split()\n",
        "if len(a) > len(b):\n",
        "    print(True)\n",
        "else:\n",
        "    print(False)"
      ],
      "metadata": {
        "id": "Fl-GiwEVpNe0"
      },
      "execution_count": null,
      "outputs": []
    },
    {
      "cell_type": "code",
      "source": [
        "#9\n",
        "import math\n",
        "a,b,c = input(\"Enter three numbers: \").split()\n",
        "if int(a) + int(b) > int(c) and int(a) + int(c) > int(b) and int(b) + int(c) > int(a):\n",
        "    print(\"Yes\")\n",
        "else:\n",
        "    print(\"No\")"
      ],
      "metadata": {
        "id": "cRpBZWH0pNb-"
      },
      "execution_count": null,
      "outputs": []
    },
    {
      "cell_type": "code",
      "source": [
        "#10\n",
        "import math\n",
        "num = input(\"Enter four numbers: \").split()\n",
        "largest = 0\n",
        "for i in num:\n",
        "    if int(i) > int(largest):\n",
        "        largest = i\n",
        "print(largest)"
      ],
      "metadata": {
        "id": "cn0Yu1QdpNZ3"
      },
      "execution_count": null,
      "outputs": []
    },
    {
      "cell_type": "code",
      "source": [
        "#11\n",
        "import math\n",
        "a,b,c = input(\"Nhập ba số nguyên dương: \").split()\n",
        "if int(a) + int(b) > int(c) and int(a) + int(c) > int(b) and int(b) + int(c) > int(a):\n",
        "    if int(a) == int(b) == int(c):\n",
        "        print(\"Tam giác đều\")\n",
        "    elif int(a) == int(b) or int(a) == int(c) or int(b) == int(c):\n",
        "        print(\"Tam giác cân\")\n",
        "    else:\n",
        "        print(\"Tam giác thường\")\n",
        "else:\n",
        "    print(\"Không phải tam giác\")"
      ],
      "metadata": {
        "id": "_dShlIrCpNXY"
      },
      "execution_count": null,
      "outputs": []
    },
    {
      "cell_type": "code",
      "source": [
        "#12\n",
        "import math\n",
        "year = int(input(\"Enter a year: \"))\n",
        "if year % 4 == 0 and year % 100 != 0 or year % 400 == 0:\n",
        "    print(\"Yes\")\n",
        "else:\n",
        "    print(\"No\")"
      ],
      "metadata": {
        "id": "IedZrrwlpNU-"
      },
      "execution_count": null,
      "outputs": []
    },
    {
      "cell_type": "code",
      "source": [
        "#13\n",
        "import math\n",
        "money = int(input(\"Nhập số kWh điện đã tiêu thụ: \"))\n",
        "if money > 100:\n",
        "    total = 50*1500 + 50*2000 + (money-100)*3000\n",
        "elif 50 < money <= 100:\n",
        "    total = 50*1500 + (money-50)*2000\n",
        "else:\n",
        "    total = money * 1500\n",
        "print(total)"
      ],
      "metadata": {
        "id": "KaSpRqrMpNSb"
      },
      "execution_count": null,
      "outputs": []
    },
    {
      "cell_type": "code",
      "source": [
        "#14\n",
        "import math\n",
        "a,b = input(\"Nhập hai số a,b trong phương trình ax + b = 0: \").split()\n",
        "try:\n",
        "    x = -float(b)/float(a)\n",
        "    x = round(x, 2)\n",
        "    print(f\"Phương trình có nghiệm x = {x}\")\n",
        "except ZeroDivisionError:\n",
        "    if float(a) == float(b) == 0:\n",
        "        print(\"Vô số nghiệm\")\n",
        "    else:\n",
        "        print(\"Vô nghiệm\")"
      ],
      "metadata": {
        "id": "hR-_9MQ7pNPo"
      },
      "execution_count": null,
      "outputs": []
    },
    {
      "cell_type": "code",
      "source": [
        "#15\n",
        "import math\n",
        "hocluc = float(input(\"Nhập học lực: \"))\n",
        "if hocluc < 5:\n",
        "    print(\"Yếu\")\n",
        "elif 5 <= hocluc < 6.5:\n",
        "    print(\"Trung bình\")\n",
        "elif 6.5 <= hocluc < 8:\n",
        "    print(\"Khá\")\n",
        "elif 8 <= hocluc:\n",
        "    print(\"Giỏi\")"
      ],
      "metadata": {
        "id": "FCfHElRipNIA"
      },
      "execution_count": null,
      "outputs": []
    },
    {
      "cell_type": "code",
      "source": [
        "#16\n",
        "import math\n",
        "number = input(\"Enter a number: \")\n",
        "number = list(number)\n",
        "\n",
        "#Tách số thành 2 phần: trước dấu phẩy và sau dấu phẩy\n",
        "for i in number:\n",
        "    if i == \".\" or i == \",\":\n",
        "        a = number[:number.index(i)]\n",
        "        b = number[number.index(i)+1:]\n",
        "        a = \"\".join(a)\n",
        "        b = \"\".join(b)\n",
        "\n",
        "#Làm tròn số tới số nguyên gần nhất: Nếu số sau dấu phẩy >= 5 => làm tròn lên, ngược lại làm tròn xuống\n",
        "        if int(b[0]) >= 5:\n",
        "            round = int(a)+1 if int(a)>=0 else int(a)-1\n",
        "        else:\n",
        "            round = int(a)\n",
        "\n",
        "#Làm tròn lên/xuống với số âm/dương\n",
        "        if int(a) >= 0:\n",
        "            if int(b)==0:\n",
        "                print(int(a), int(a), round)\n",
        "            else:\n",
        "                print(int(a)+1, int(a), round)\n",
        "        else:\n",
        "            if int(b)==0:\n",
        "                print(int(a), int(a), round)\n",
        "            else:\n",
        "                print(int(a), int(a)-1, round)"
      ],
      "metadata": {
        "id": "yjHp9nXWp2D5"
      },
      "execution_count": null,
      "outputs": []
    },
    {
      "cell_type": "code",
      "source": [
        "#17\n",
        "import math\n",
        "a,b,c = input(\"Nhập ba số nguyên dương: \").split()\n",
        "if int(a) + int(b) > int(c) and int(a) + int(c) > int(b) and int(b) + int(c) > int(a):\n",
        "    if int(a) == int(b) == int(c):\n",
        "        print(\"Tam giác đều\")\n",
        "    elif int(a) == int(b) or int(a) == int(c) or int(b) == int(c):\n",
        "        print(\"Tam giác cân\")\n",
        "    else:\n",
        "        print(\"Tam giác thường\")\n",
        "else:\n",
        "    print(\"Không phải tam giác\")"
      ],
      "metadata": {
        "id": "p8m63FzEp3sI"
      },
      "execution_count": null,
      "outputs": []
    }
  ]
}